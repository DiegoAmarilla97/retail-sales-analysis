{
 "cells": [
  {
   "cell_type": "code",
   "execution_count": 5,
   "metadata": {},
   "outputs": [
    {
     "name": "stdout",
     "output_type": "stream",
     "text": [
      "[[   1.   nan   nan   nan   34.   nan    3.   50.  150.]\n",
      " [   2.   nan   nan   nan   26.   nan    2.  500. 1000.]\n",
      " [   3.   nan   nan   nan   50.   nan    1.   30.   30.]\n",
      " [   4.   nan   nan   nan   37.   nan    1.  500.  500.]\n",
      " [   5.   nan   nan   nan   30.   nan    2.   50.  100.]]\n"
     ]
    }
   ],
   "source": [
    "import numpy as np\n",
    "data = np.genfromtxt('retail_sales_dataset.csv', delimiter = ',', skip_header=True)\n",
    "print(data[:5])"
   ]
  },
  {
   "cell_type": "code",
   "execution_count": 6,
   "metadata": {},
   "outputs": [
    {
     "name": "stdout",
     "output_type": "stream",
     "text": [
      "{np.float64(nan): np.float64(0.0)}\n"
     ]
    }
   ],
   "source": [
    "categorias = np.unique(data[:, 5])  # Columna 5 es 'Product Category'\n",
    "total_ventas_por_categoria = {categoria: np.sum(data[data[:, 5] == categoria][:, 8]) for categoria in categorias}\n",
    "print(total_ventas_por_categoria)\n"
   ]
  }
 ],
 "metadata": {
  "kernelspec": {
   "display_name": "Python 3",
   "language": "python",
   "name": "python3"
  },
  "language_info": {
   "codemirror_mode": {
    "name": "ipython",
    "version": 3
   },
   "file_extension": ".py",
   "mimetype": "text/x-python",
   "name": "python",
   "nbconvert_exporter": "python",
   "pygments_lexer": "ipython3",
   "version": "3.12.7"
  }
 },
 "nbformat": 4,
 "nbformat_minor": 2
}
